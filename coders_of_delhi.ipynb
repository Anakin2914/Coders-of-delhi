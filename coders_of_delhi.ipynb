{
 "cells": [
  {
   "cell_type": "code",
   "execution_count": 1,
   "id": "751b5fbe-a36f-41ba-aa07-661067ca8dc2",
   "metadata": {},
   "outputs": [],
   "source": [
    "import json"
   ]
  },
  {
   "cell_type": "code",
   "execution_count": 2,
   "id": "6b4684ef-8e1c-47a6-a47f-8f782cb09ce7",
   "metadata": {},
   "outputs": [],
   "source": [
    "file = open(\"read.json\",\"w\")"
   ]
  },
  {
   "cell_type": "code",
   "execution_count": 3,
   "id": "729c94db-5045-45d7-bfea-9710ad3dd044",
   "metadata": {},
   "outputs": [],
   "source": [
    "obj = { \"users\": [\n",
    "        {\"id\": 1, \"name\": \"Amit\", \"friends\": [2, 3], \"liked_pages\": [101]},\n",
    "        {\"id\": 2, \"name\": \"Priya\", \"friends\": [1, 4], \"liked_pages\": [102]},\n",
    "        {\"id\": 3, \"name\": \"Rahul\", \"friends\": [1], \"liked_pages\": [101, 103]},\n",
    "        {\"id\": 4, \"name\": \"Sara\", \"friends\": [2], \"liked_pages\": [104]}\n",
    "    ],\n",
    "    \"pages\": [\n",
    "        {\"id\": 101, \"name\": \"Python Developers\"},\n",
    "        {\"id\": 102, \"name\": \"Data Science Enthusiasts\"},\n",
    "        {\"id\": 103, \"name\": \"AI & ML Community\"},\n",
    "        {\"id\": 104, \"name\": \"Web Dev Hub\"}\n",
    "    ]}"
   ]
  },
  {
   "cell_type": "code",
   "execution_count": 4,
   "id": "8c843bf6-b656-477c-9c42-eb7cbd66d977",
   "metadata": {},
   "outputs": [],
   "source": [
    "json.dump(obj,file)"
   ]
  },
  {
   "cell_type": "code",
   "execution_count": 5,
   "id": "ec56017a-92f1-4a87-80b2-b32f7b94c0e1",
   "metadata": {},
   "outputs": [],
   "source": [
    "file.close()"
   ]
  },
  {
   "cell_type": "code",
   "execution_count": 6,
   "id": "8644f127-9689-44f1-ac01-8340150dfb48",
   "metadata": {},
   "outputs": [],
   "source": [
    "def load_data(filename):\n",
    "    with open(filename,\"r\") as f:\n",
    "        data = json.load(f)\n",
    "    return data"
   ]
  },
  {
   "cell_type": "code",
   "execution_count": 7,
   "id": "69fbee48-8eca-41e3-bc14-fbb0be62da08",
   "metadata": {},
   "outputs": [],
   "source": [
    "data = load_data(\"read.json\")"
   ]
  },
  {
   "cell_type": "code",
   "execution_count": 8,
   "id": "b3737a47-86b8-4c7b-9b1f-d3605b5f7243",
   "metadata": {},
   "outputs": [
    {
     "data": {
      "text/plain": [
       "{'users': [{'id': 1, 'name': 'Amit', 'friends': [2, 3], 'liked_pages': [101]},\n",
       "  {'id': 2, 'name': 'Priya', 'friends': [1, 4], 'liked_pages': [102]},\n",
       "  {'id': 3, 'name': 'Rahul', 'friends': [1], 'liked_pages': [101, 103]},\n",
       "  {'id': 4, 'name': 'Sara', 'friends': [2], 'liked_pages': [104]}],\n",
       " 'pages': [{'id': 101, 'name': 'Python Developers'},\n",
       "  {'id': 102, 'name': 'Data Science Enthusiasts'},\n",
       "  {'id': 103, 'name': 'AI & ML Community'},\n",
       "  {'id': 104, 'name': 'Web Dev Hub'}]}"
      ]
     },
     "execution_count": 8,
     "metadata": {},
     "output_type": "execute_result"
    }
   ],
   "source": [
    "data"
   ]
  },
  {
   "cell_type": "code",
   "execution_count": 9,
   "id": "a0d966cc-9e3b-4ed3-9e05-cfa462ae95b7",
   "metadata": {},
   "outputs": [
    {
     "data": {
      "text/plain": [
       "dict"
      ]
     },
     "execution_count": 9,
     "metadata": {},
     "output_type": "execute_result"
    }
   ],
   "source": [
    "type(data)"
   ]
  },
  {
   "cell_type": "code",
   "execution_count": 13,
   "id": "65341d9d-d332-415a-ad5f-448ea5ecba6c",
   "metadata": {},
   "outputs": [
    {
     "name": "stdout",
     "output_type": "stream",
     "text": [
      "Users and their connections\n",
      "\n",
      "1 :  Amit is friend of [2, 3] and liked pages are [101] \n",
      "2 :  Priya is friend of [1, 4] and liked pages are [102] \n",
      "3 :  Rahul is friend of [1] and liked pages are [101, 103] \n",
      "4 :  Sara is friend of [2] and liked pages are [104] \n",
      "\n",
      "pages information\n",
      "\n",
      "101 : Python Developers \n",
      "102 : Data Science Enthusiasts \n",
      "103 : AI & ML Community \n",
      "104 : Web Dev Hub \n"
     ]
    }
   ],
   "source": [
    "#function to display users and their connections\n",
    "def display_users(data):\n",
    "    print(\"Users and their connections\\n\")\n",
    "\n",
    "    for user in data['users'] :\n",
    "        print(f\"{user['id']} :  {user['name']} is friend of {user['friends']} and liked pages are {user['liked_pages']} \")\n",
    "    print(\"\\npages information\\n\")\n",
    "    for page in data['pages']:\n",
    "        print(f\"{page['id']} : {page['name']} \")\n",
    "\n",
    "display_users(data)"
   ]
  },
  {
   "cell_type": "code",
   "execution_count": null,
   "id": "25ead2ba-56ca-411c-951a-9cb5f2aad0d9",
   "metadata": {},
   "outputs": [],
   "source": []
  }
 ],
 "metadata": {
  "kernelspec": {
   "display_name": "Python 3 (ipykernel)",
   "language": "python",
   "name": "python3"
  },
  "language_info": {
   "codemirror_mode": {
    "name": "ipython",
    "version": 3
   },
   "file_extension": ".py",
   "mimetype": "text/x-python",
   "name": "python",
   "nbconvert_exporter": "python",
   "pygments_lexer": "ipython3",
   "version": "3.13.5"
  }
 },
 "nbformat": 4,
 "nbformat_minor": 5
}
