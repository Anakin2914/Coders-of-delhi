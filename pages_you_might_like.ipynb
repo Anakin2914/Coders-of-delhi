{
 "cells": [
  {
   "cell_type": "code",
   "execution_count": 6,
   "id": "f6090237-7581-43d5-9e88-b53065a6d191",
   "metadata": {},
   "outputs": [
    {
     "name": "stdout",
     "output_type": "stream",
     "text": [
      "Pages you might like for user 1 : [(103, 2), (105, 1), (107, 1), (104, 0), (106, 0), (108, 0), (109, 0), (110, 0), (111, 0), (112, 0), (113, 0), (114, 0), (115, 0), (116, 0), (117, 0), (118, 0), (119, 0), (120, 0), (121, 0), (122, 0), (123, 0), (124, 0), (125, 0), (126, 0), (127, 0)] \n"
     ]
    }
   ],
   "source": [
    "import json \n",
    "\n",
    "def load_data(filename):\n",
    "    with open(filename) as f:\n",
    "        return json.load(f)\n",
    "\n",
    "def pages_you_might_like(user_id,data):\n",
    "\n",
    "    user_pages = {}\n",
    "\n",
    "    for user in data['users']:\n",
    "        user_pages[user['id']] = set(user['liked_pages'])\n",
    "\n",
    "\n",
    "    if user_id not in user_pages:\n",
    "        return []\n",
    "\n",
    "    user_liked_pages = user_pages[user_id]\n",
    "    page_sugg = {}\n",
    "\n",
    "    for other_user,pages in user_pages.items():\n",
    "        if other_user != user_id:\n",
    "            shared_pages = user_liked_pages.intersection(pages)\n",
    "            for page in pages:\n",
    "                if page not in user_liked_pages:\n",
    "                    page_sugg[page] = page_sugg.get(page,0) + len(shared_pages)\n",
    "\n",
    "    sorted_pages = sorted(page_sugg.items(),key=lambda x:x[1], reverse = True)\n",
    "\n",
    "    return [(page_id,count) for page_id,count in sorted_pages]\n",
    "\n",
    "data = load_data(\"massive.json\")\n",
    "user_id = 1\n",
    "page_reco = pages_you_might_like(user_id,data)\n",
    "print(f\"Pages you might like for user {user_id} : {page_reco} \")\n",
    "    \n",
    "    \n"
   ]
  },
  {
   "cell_type": "code",
   "execution_count": null,
   "id": "d9d7df8b-2d4b-4000-b79f-ca9907591d85",
   "metadata": {},
   "outputs": [],
   "source": []
  }
 ],
 "metadata": {
  "kernelspec": {
   "display_name": "Python 3 (ipykernel)",
   "language": "python",
   "name": "python3"
  },
  "language_info": {
   "codemirror_mode": {
    "name": "ipython",
    "version": 3
   },
   "file_extension": ".py",
   "mimetype": "text/x-python",
   "name": "python",
   "nbconvert_exporter": "python",
   "pygments_lexer": "ipython3",
   "version": "3.13.5"
  }
 },
 "nbformat": 4,
 "nbformat_minor": 5
}
