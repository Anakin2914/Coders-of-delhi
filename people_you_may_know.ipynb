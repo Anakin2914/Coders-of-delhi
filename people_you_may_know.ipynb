{
 "cells": [
  {
   "cell_type": "code",
   "execution_count": 21,
   "id": "70b5a75c-d283-4bd5-a1ff-efe29d06f619",
   "metadata": {},
   "outputs": [
    {
     "name": "stdout",
     "output_type": "stream",
     "text": [
      "People You May Know for User 5: [12, 3, 4, 9, 7, 8, 16, 14, 17]\n"
     ]
    }
   ],
   "source": [
    "import json\n",
    "\n",
    "def load_data(filename):\n",
    "    with open(filename,\"r\") as file:\n",
    "        return json.load(file)\n",
    "\n",
    "def find_people_you_may_know(user_id,data):\n",
    "    user_friends = {}\n",
    "\n",
    "    for user in data[\"users\"]:\n",
    "        user_friends[user[\"id\"]] = set(user[\"friends\"])\n",
    "\n",
    "    if user_id not in user_friends:\n",
    "        return []\n",
    "\n",
    "    direct_friends = user_friends[user_id]\n",
    "    suggestions = {}\n",
    "\n",
    "    for friend in direct_friends:\n",
    "        for mutual in user_friends[friend]:\n",
    "\n",
    "            if mutual != user_id and mutual not in direct_friends:\n",
    "                suggestions[mutual] = suggestions.get(mutual,0) + 1;\n",
    "\n",
    "    sorted_suggestions = sorted(suggestions.items(), key = lambda x: x[1] , reverse = True)\n",
    "    return [user_id for user_id, _ in sorted_suggestions]\n",
    "\n",
    "\n",
    "data = load_data(\"massive.json\")\n",
    "user_id = 5;\n",
    "recommendation = find_people_you_may_know(user_id,data)\n",
    "print(f\"People You May Know for User {user_id}: {recommendation}\")"
   ]
  },
  {
   "cell_type": "code",
   "execution_count": null,
   "id": "caf82fc2-af1b-4654-a7a7-d23543a02fe3",
   "metadata": {},
   "outputs": [],
   "source": []
  }
 ],
 "metadata": {
  "kernelspec": {
   "display_name": "Python 3 (ipykernel)",
   "language": "python",
   "name": "python3"
  },
  "language_info": {
   "codemirror_mode": {
    "name": "ipython",
    "version": 3
   },
   "file_extension": ".py",
   "mimetype": "text/x-python",
   "name": "python",
   "nbconvert_exporter": "python",
   "pygments_lexer": "ipython3",
   "version": "3.13.5"
  }
 },
 "nbformat": 4,
 "nbformat_minor": 5
}
